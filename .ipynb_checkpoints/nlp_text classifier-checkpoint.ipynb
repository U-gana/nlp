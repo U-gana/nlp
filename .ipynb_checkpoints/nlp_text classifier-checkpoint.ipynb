{
 "cells": [
  {
   "cell_type": "code",
   "execution_count": 1,
   "id": "5b250dab-3c10-4ac4-9e2c-1fe3f69434a8",
   "metadata": {},
   "outputs": [],
   "source": [
    "#importing nessecarry libraries\n",
    "import pandas as pd\n",
    "import numpy as np\n",
    "from sklearn.model_selection import train_test_split\n",
    "from sklearn.preprocessing import LabelEncoder"
   ]
  },
  {
   "cell_type": "code",
   "execution_count": 2,
   "id": "0273aee0-fef3-4b11-b0d0-76c1e2f3ede2",
   "metadata": {},
   "outputs": [
    {
     "data": {
      "text/html": [
       "<div>\n",
       "<style scoped>\n",
       "    .dataframe tbody tr th:only-of-type {\n",
       "        vertical-align: middle;\n",
       "    }\n",
       "\n",
       "    .dataframe tbody tr th {\n",
       "        vertical-align: top;\n",
       "    }\n",
       "\n",
       "    .dataframe thead th {\n",
       "        text-align: right;\n",
       "    }\n",
       "</style>\n",
       "<table border=\"1\" class=\"dataframe\">\n",
       "  <thead>\n",
       "    <tr style=\"text-align: right;\">\n",
       "      <th></th>\n",
       "      <th>Class Index</th>\n",
       "      <th>Title</th>\n",
       "      <th>Description</th>\n",
       "    </tr>\n",
       "  </thead>\n",
       "  <tbody>\n",
       "    <tr>\n",
       "      <th>0</th>\n",
       "      <td>3</td>\n",
       "      <td>Wall St. Bears Claw Back Into the Black (Reuters)</td>\n",
       "      <td>Reuters - Short-sellers, Wall Street's dwindli...</td>\n",
       "    </tr>\n",
       "    <tr>\n",
       "      <th>1</th>\n",
       "      <td>3</td>\n",
       "      <td>Carlyle Looks Toward Commercial Aerospace (Reu...</td>\n",
       "      <td>Reuters - Private investment firm Carlyle Grou...</td>\n",
       "    </tr>\n",
       "    <tr>\n",
       "      <th>2</th>\n",
       "      <td>3</td>\n",
       "      <td>Oil and Economy Cloud Stocks' Outlook (Reuters)</td>\n",
       "      <td>Reuters - Soaring crude prices plus worries\\ab...</td>\n",
       "    </tr>\n",
       "    <tr>\n",
       "      <th>3</th>\n",
       "      <td>3</td>\n",
       "      <td>Iraq Halts Oil Exports from Main Southern Pipe...</td>\n",
       "      <td>Reuters - Authorities have halted oil export\\f...</td>\n",
       "    </tr>\n",
       "    <tr>\n",
       "      <th>4</th>\n",
       "      <td>3</td>\n",
       "      <td>Oil prices soar to all-time record, posing new...</td>\n",
       "      <td>AFP - Tearaway world oil prices, toppling reco...</td>\n",
       "    </tr>\n",
       "    <tr>\n",
       "      <th>5</th>\n",
       "      <td>3</td>\n",
       "      <td>Stocks End Up, But Near Year Lows (Reuters)</td>\n",
       "      <td>Reuters - Stocks ended slightly higher on Frid...</td>\n",
       "    </tr>\n",
       "    <tr>\n",
       "      <th>6</th>\n",
       "      <td>3</td>\n",
       "      <td>Money Funds Fell in Latest Week (AP)</td>\n",
       "      <td>AP - Assets of the nation's retail money marke...</td>\n",
       "    </tr>\n",
       "    <tr>\n",
       "      <th>7</th>\n",
       "      <td>3</td>\n",
       "      <td>Fed minutes show dissent over inflation (USATO...</td>\n",
       "      <td>USATODAY.com - Retail sales bounced back a bit...</td>\n",
       "    </tr>\n",
       "    <tr>\n",
       "      <th>8</th>\n",
       "      <td>3</td>\n",
       "      <td>Safety Net (Forbes.com)</td>\n",
       "      <td>Forbes.com - After earning a PH.D. in Sociolog...</td>\n",
       "    </tr>\n",
       "    <tr>\n",
       "      <th>9</th>\n",
       "      <td>3</td>\n",
       "      <td>Wall St. Bears Claw Back Into the Black</td>\n",
       "      <td>NEW YORK (Reuters) - Short-sellers, Wall Stre...</td>\n",
       "    </tr>\n",
       "  </tbody>\n",
       "</table>\n",
       "</div>"
      ],
      "text/plain": [
       "   Class Index                                              Title  \\\n",
       "0            3  Wall St. Bears Claw Back Into the Black (Reuters)   \n",
       "1            3  Carlyle Looks Toward Commercial Aerospace (Reu...   \n",
       "2            3    Oil and Economy Cloud Stocks' Outlook (Reuters)   \n",
       "3            3  Iraq Halts Oil Exports from Main Southern Pipe...   \n",
       "4            3  Oil prices soar to all-time record, posing new...   \n",
       "5            3        Stocks End Up, But Near Year Lows (Reuters)   \n",
       "6            3               Money Funds Fell in Latest Week (AP)   \n",
       "7            3  Fed minutes show dissent over inflation (USATO...   \n",
       "8            3                            Safety Net (Forbes.com)   \n",
       "9            3            Wall St. Bears Claw Back Into the Black   \n",
       "\n",
       "                                         Description  \n",
       "0  Reuters - Short-sellers, Wall Street's dwindli...  \n",
       "1  Reuters - Private investment firm Carlyle Grou...  \n",
       "2  Reuters - Soaring crude prices plus worries\\ab...  \n",
       "3  Reuters - Authorities have halted oil export\\f...  \n",
       "4  AFP - Tearaway world oil prices, toppling reco...  \n",
       "5  Reuters - Stocks ended slightly higher on Frid...  \n",
       "6  AP - Assets of the nation's retail money marke...  \n",
       "7  USATODAY.com - Retail sales bounced back a bit...  \n",
       "8  Forbes.com - After earning a PH.D. in Sociolog...  \n",
       "9   NEW YORK (Reuters) - Short-sellers, Wall Stre...  "
      ]
     },
     "execution_count": 2,
     "metadata": {},
     "output_type": "execute_result"
    }
   ],
   "source": [
    "# getting our data\n",
    "df = pd.read_csv(\"train.csv\")\n",
    "df.head(10)"
   ]
  },
  {
   "cell_type": "code",
   "execution_count": 3,
   "id": "00e16be6-e822-4710-abb0-477981138613",
   "metadata": {},
   "outputs": [
    {
     "data": {
      "text/html": [
       "<div>\n",
       "<style scoped>\n",
       "    .dataframe tbody tr th:only-of-type {\n",
       "        vertical-align: middle;\n",
       "    }\n",
       "\n",
       "    .dataframe tbody tr th {\n",
       "        vertical-align: top;\n",
       "    }\n",
       "\n",
       "    .dataframe thead th {\n",
       "        text-align: right;\n",
       "    }\n",
       "</style>\n",
       "<table border=\"1\" class=\"dataframe\">\n",
       "  <thead>\n",
       "    <tr style=\"text-align: right;\">\n",
       "      <th></th>\n",
       "      <th>Class Index</th>\n",
       "      <th>Description</th>\n",
       "    </tr>\n",
       "  </thead>\n",
       "  <tbody>\n",
       "    <tr>\n",
       "      <th>0</th>\n",
       "      <td>3</td>\n",
       "      <td>Reuters - Short-sellers, Wall Street's dwindli...</td>\n",
       "    </tr>\n",
       "    <tr>\n",
       "      <th>1</th>\n",
       "      <td>3</td>\n",
       "      <td>Reuters - Private investment firm Carlyle Grou...</td>\n",
       "    </tr>\n",
       "    <tr>\n",
       "      <th>2</th>\n",
       "      <td>3</td>\n",
       "      <td>Reuters - Soaring crude prices plus worries\\ab...</td>\n",
       "    </tr>\n",
       "    <tr>\n",
       "      <th>3</th>\n",
       "      <td>3</td>\n",
       "      <td>Reuters - Authorities have halted oil export\\f...</td>\n",
       "    </tr>\n",
       "    <tr>\n",
       "      <th>4</th>\n",
       "      <td>3</td>\n",
       "      <td>AFP - Tearaway world oil prices, toppling reco...</td>\n",
       "    </tr>\n",
       "    <tr>\n",
       "      <th>5</th>\n",
       "      <td>3</td>\n",
       "      <td>Reuters - Stocks ended slightly higher on Frid...</td>\n",
       "    </tr>\n",
       "    <tr>\n",
       "      <th>6</th>\n",
       "      <td>3</td>\n",
       "      <td>AP - Assets of the nation's retail money marke...</td>\n",
       "    </tr>\n",
       "    <tr>\n",
       "      <th>7</th>\n",
       "      <td>3</td>\n",
       "      <td>USATODAY.com - Retail sales bounced back a bit...</td>\n",
       "    </tr>\n",
       "    <tr>\n",
       "      <th>8</th>\n",
       "      <td>3</td>\n",
       "      <td>Forbes.com - After earning a PH.D. in Sociolog...</td>\n",
       "    </tr>\n",
       "    <tr>\n",
       "      <th>9</th>\n",
       "      <td>3</td>\n",
       "      <td>NEW YORK (Reuters) - Short-sellers, Wall Stre...</td>\n",
       "    </tr>\n",
       "  </tbody>\n",
       "</table>\n",
       "</div>"
      ],
      "text/plain": [
       "   Class Index                                        Description\n",
       "0            3  Reuters - Short-sellers, Wall Street's dwindli...\n",
       "1            3  Reuters - Private investment firm Carlyle Grou...\n",
       "2            3  Reuters - Soaring crude prices plus worries\\ab...\n",
       "3            3  Reuters - Authorities have halted oil export\\f...\n",
       "4            3  AFP - Tearaway world oil prices, toppling reco...\n",
       "5            3  Reuters - Stocks ended slightly higher on Frid...\n",
       "6            3  AP - Assets of the nation's retail money marke...\n",
       "7            3  USATODAY.com - Retail sales bounced back a bit...\n",
       "8            3  Forbes.com - After earning a PH.D. in Sociolog...\n",
       "9            3   NEW YORK (Reuters) - Short-sellers, Wall Stre..."
      ]
     },
     "execution_count": 3,
     "metadata": {},
     "output_type": "execute_result"
    }
   ],
   "source": [
    "#dropping all empty values and irellevant observation\n",
    "df = df[[\"Class Index\",\"Description\"]].dropna()\n",
    "df.head(10)"
   ]
  },
  {
   "cell_type": "code",
   "execution_count": 4,
   "id": "e708dd4f-fd7b-44da-97fa-b6869725e0a7",
   "metadata": {},
   "outputs": [],
   "source": [
    "df = df.rename(columns = {\"Class Index\":\"News Type\", 'Description': 'News description'})"
   ]
  },
  {
   "cell_type": "code",
   "execution_count": 5,
   "id": "0c43a460-163b-4c05-a9f0-6c576ec1f995",
   "metadata": {},
   "outputs": [
    {
     "data": {
      "text/html": [
       "<div>\n",
       "<style scoped>\n",
       "    .dataframe tbody tr th:only-of-type {\n",
       "        vertical-align: middle;\n",
       "    }\n",
       "\n",
       "    .dataframe tbody tr th {\n",
       "        vertical-align: top;\n",
       "    }\n",
       "\n",
       "    .dataframe thead th {\n",
       "        text-align: right;\n",
       "    }\n",
       "</style>\n",
       "<table border=\"1\" class=\"dataframe\">\n",
       "  <thead>\n",
       "    <tr style=\"text-align: right;\">\n",
       "      <th></th>\n",
       "      <th>News Type</th>\n",
       "      <th>News description</th>\n",
       "    </tr>\n",
       "  </thead>\n",
       "  <tbody>\n",
       "    <tr>\n",
       "      <th>0</th>\n",
       "      <td>Bussiness News</td>\n",
       "      <td>Reuters - Short-sellers, Wall Street's dwindli...</td>\n",
       "    </tr>\n",
       "    <tr>\n",
       "      <th>1</th>\n",
       "      <td>Bussiness News</td>\n",
       "      <td>Reuters - Private investment firm Carlyle Grou...</td>\n",
       "    </tr>\n",
       "    <tr>\n",
       "      <th>2</th>\n",
       "      <td>Bussiness News</td>\n",
       "      <td>Reuters - Soaring crude prices plus worries\\ab...</td>\n",
       "    </tr>\n",
       "    <tr>\n",
       "      <th>3</th>\n",
       "      <td>Bussiness News</td>\n",
       "      <td>Reuters - Authorities have halted oil export\\f...</td>\n",
       "    </tr>\n",
       "    <tr>\n",
       "      <th>4</th>\n",
       "      <td>Bussiness News</td>\n",
       "      <td>AFP - Tearaway world oil prices, toppling reco...</td>\n",
       "    </tr>\n",
       "    <tr>\n",
       "      <th>5</th>\n",
       "      <td>Bussiness News</td>\n",
       "      <td>Reuters - Stocks ended slightly higher on Frid...</td>\n",
       "    </tr>\n",
       "    <tr>\n",
       "      <th>6</th>\n",
       "      <td>Bussiness News</td>\n",
       "      <td>AP - Assets of the nation's retail money marke...</td>\n",
       "    </tr>\n",
       "    <tr>\n",
       "      <th>7</th>\n",
       "      <td>Bussiness News</td>\n",
       "      <td>USATODAY.com - Retail sales bounced back a bit...</td>\n",
       "    </tr>\n",
       "    <tr>\n",
       "      <th>8</th>\n",
       "      <td>Bussiness News</td>\n",
       "      <td>Forbes.com - After earning a PH.D. in Sociolog...</td>\n",
       "    </tr>\n",
       "    <tr>\n",
       "      <th>9</th>\n",
       "      <td>Bussiness News</td>\n",
       "      <td>NEW YORK (Reuters) - Short-sellers, Wall Stre...</td>\n",
       "    </tr>\n",
       "  </tbody>\n",
       "</table>\n",
       "</div>"
      ],
      "text/plain": [
       "        News Type                                   News description\n",
       "0  Bussiness News  Reuters - Short-sellers, Wall Street's dwindli...\n",
       "1  Bussiness News  Reuters - Private investment firm Carlyle Grou...\n",
       "2  Bussiness News  Reuters - Soaring crude prices plus worries\\ab...\n",
       "3  Bussiness News  Reuters - Authorities have halted oil export\\f...\n",
       "4  Bussiness News  AFP - Tearaway world oil prices, toppling reco...\n",
       "5  Bussiness News  Reuters - Stocks ended slightly higher on Frid...\n",
       "6  Bussiness News  AP - Assets of the nation's retail money marke...\n",
       "7  Bussiness News  USATODAY.com - Retail sales bounced back a bit...\n",
       "8  Bussiness News  Forbes.com - After earning a PH.D. in Sociolog...\n",
       "9  Bussiness News   NEW YORK (Reuters) - Short-sellers, Wall Stre..."
      ]
     },
     "execution_count": 5,
     "metadata": {},
     "output_type": "execute_result"
    }
   ],
   "source": [
    "df[[\"News Type\"]]= df[[\"News Type\"]].replace({3:\"Bussiness News\", 4:\"Science and Technology News\", 2:\"Sports News\", 1: \"World News\"})\n",
    "df.head(10)"
   ]
  },
  {
   "cell_type": "code",
   "execution_count": 6,
   "id": "205e7448-e145-4f36-856e-e3d32e150fd7",
   "metadata": {},
   "outputs": [],
   "source": [
    "df = df.sample(frac = 1)"
   ]
  },
  {
   "cell_type": "code",
   "execution_count": 7,
   "id": "6ce5152d-5c6f-454a-aa84-abd014fcae21",
   "metadata": {},
   "outputs": [
    {
     "data": {
      "text/html": [
       "<div>\n",
       "<style scoped>\n",
       "    .dataframe tbody tr th:only-of-type {\n",
       "        vertical-align: middle;\n",
       "    }\n",
       "\n",
       "    .dataframe tbody tr th {\n",
       "        vertical-align: top;\n",
       "    }\n",
       "\n",
       "    .dataframe thead th {\n",
       "        text-align: right;\n",
       "    }\n",
       "</style>\n",
       "<table border=\"1\" class=\"dataframe\">\n",
       "  <thead>\n",
       "    <tr style=\"text-align: right;\">\n",
       "      <th></th>\n",
       "      <th>News Type</th>\n",
       "      <th>News description</th>\n",
       "    </tr>\n",
       "  </thead>\n",
       "  <tbody>\n",
       "    <tr>\n",
       "      <th>53360</th>\n",
       "      <td>Science and Technology News</td>\n",
       "      <td>ap  its part of an intensifying car rental rum...</td>\n",
       "    </tr>\n",
       "    <tr>\n",
       "      <th>5060</th>\n",
       "      <td>Science and Technology News</td>\n",
       "      <td>yahoo now powers optusnet of australia and new...</td>\n",
       "    </tr>\n",
       "    <tr>\n",
       "      <th>70520</th>\n",
       "      <td>Sports News</td>\n",
       "      <td>australia captain ricky ponting recovering fro...</td>\n",
       "    </tr>\n",
       "    <tr>\n",
       "      <th>106083</th>\n",
       "      <td>Sports News</td>\n",
       "      <td>the third fight between erik morales and marco...</td>\n",
       "    </tr>\n",
       "    <tr>\n",
       "      <th>13803</th>\n",
       "      <td>World News</td>\n",
       "      <td>a militant iraqi islamic group holding two fre...</td>\n",
       "    </tr>\n",
       "    <tr>\n",
       "      <th>55264</th>\n",
       "      <td>World News</td>\n",
       "      <td>united nations washington wants the un securit...</td>\n",
       "    </tr>\n",
       "    <tr>\n",
       "      <th>11652</th>\n",
       "      <td>Science and Technology News</td>\n",
       "      <td>welldesigned notebook lets you play movies and...</td>\n",
       "    </tr>\n",
       "    <tr>\n",
       "      <th>59722</th>\n",
       "      <td>Bussiness News</td>\n",
       "      <td>generic drug maker mylan laboratories inc reaf...</td>\n",
       "    </tr>\n",
       "    <tr>\n",
       "      <th>20591</th>\n",
       "      <td>Bussiness News</td>\n",
       "      <td>cairn energy the ukbased oil  amp gas major sa...</td>\n",
       "    </tr>\n",
       "    <tr>\n",
       "      <th>62411</th>\n",
       "      <td>World News</td>\n",
       "      <td>ap  members of the military and their families...</td>\n",
       "    </tr>\n",
       "  </tbody>\n",
       "</table>\n",
       "</div>"
      ],
      "text/plain": [
       "                          News Type  \\\n",
       "53360   Science and Technology News   \n",
       "5060    Science and Technology News   \n",
       "70520                   Sports News   \n",
       "106083                  Sports News   \n",
       "13803                    World News   \n",
       "55264                    World News   \n",
       "11652   Science and Technology News   \n",
       "59722                Bussiness News   \n",
       "20591                Bussiness News   \n",
       "62411                    World News   \n",
       "\n",
       "                                         News description  \n",
       "53360   ap  its part of an intensifying car rental rum...  \n",
       "5060    yahoo now powers optusnet of australia and new...  \n",
       "70520   australia captain ricky ponting recovering fro...  \n",
       "106083  the third fight between erik morales and marco...  \n",
       "13803   a militant iraqi islamic group holding two fre...  \n",
       "55264   united nations washington wants the un securit...  \n",
       "11652   welldesigned notebook lets you play movies and...  \n",
       "59722   generic drug maker mylan laboratories inc reaf...  \n",
       "20591   cairn energy the ukbased oil  amp gas major sa...  \n",
       "62411   ap  members of the military and their families...  "
      ]
     },
     "execution_count": 7,
     "metadata": {},
     "output_type": "execute_result"
    }
   ],
   "source": [
    "#removing all punctuations\n",
    "def clean_text(text):\n",
    "    text = text.lower()  # Converting text to lowercase\n",
    "    text = ''.join(char for char in text if char.isalnum() or char.isspace())  # Remove punctuation\n",
    "    return text\n",
    "\n",
    "# Apply cleaning function\n",
    "df['News description'] = df['News description'].apply(clean_text)\n",
    "df.head(10)"
   ]
  },
  {
   "cell_type": "code",
   "execution_count": 8,
   "id": "82881ee4-647f-480b-96a2-9998e4715bc9",
   "metadata": {},
   "outputs": [
    {
     "data": {
      "text/html": [
       "<div>\n",
       "<style scoped>\n",
       "    .dataframe tbody tr th:only-of-type {\n",
       "        vertical-align: middle;\n",
       "    }\n",
       "\n",
       "    .dataframe tbody tr th {\n",
       "        vertical-align: top;\n",
       "    }\n",
       "\n",
       "    .dataframe thead th {\n",
       "        text-align: right;\n",
       "    }\n",
       "</style>\n",
       "<table border=\"1\" class=\"dataframe\">\n",
       "  <thead>\n",
       "    <tr style=\"text-align: right;\">\n",
       "      <th></th>\n",
       "      <th>News Type</th>\n",
       "      <th>News description</th>\n",
       "    </tr>\n",
       "  </thead>\n",
       "  <tbody>\n",
       "    <tr>\n",
       "      <th>53360</th>\n",
       "      <td>Science and Technology News</td>\n",
       "      <td>ap  its part of an intensifying car rental rum...</td>\n",
       "    </tr>\n",
       "    <tr>\n",
       "      <th>5060</th>\n",
       "      <td>Science and Technology News</td>\n",
       "      <td>yahoo now powers optusnet of australia and new...</td>\n",
       "    </tr>\n",
       "    <tr>\n",
       "      <th>70520</th>\n",
       "      <td>Sports News</td>\n",
       "      <td>australia captain ricky ponting recovering fro...</td>\n",
       "    </tr>\n",
       "    <tr>\n",
       "      <th>106083</th>\n",
       "      <td>Sports News</td>\n",
       "      <td>the third fight between erik morales and marco...</td>\n",
       "    </tr>\n",
       "    <tr>\n",
       "      <th>13803</th>\n",
       "      <td>World News</td>\n",
       "      <td>a militant iraqi islamic group holding two fre...</td>\n",
       "    </tr>\n",
       "    <tr>\n",
       "      <th>55264</th>\n",
       "      <td>World News</td>\n",
       "      <td>united nations washington wants the un securit...</td>\n",
       "    </tr>\n",
       "    <tr>\n",
       "      <th>11652</th>\n",
       "      <td>Science and Technology News</td>\n",
       "      <td>welldesigned notebook lets you play movies and...</td>\n",
       "    </tr>\n",
       "    <tr>\n",
       "      <th>59722</th>\n",
       "      <td>Bussiness News</td>\n",
       "      <td>generic drug maker mylan laboratories inc reaf...</td>\n",
       "    </tr>\n",
       "    <tr>\n",
       "      <th>20591</th>\n",
       "      <td>Bussiness News</td>\n",
       "      <td>cairn energy the ukbased oil  amp gas major sa...</td>\n",
       "    </tr>\n",
       "    <tr>\n",
       "      <th>62411</th>\n",
       "      <td>World News</td>\n",
       "      <td>ap  members of the military and their families...</td>\n",
       "    </tr>\n",
       "  </tbody>\n",
       "</table>\n",
       "</div>"
      ],
      "text/plain": [
       "                          News Type  \\\n",
       "53360   Science and Technology News   \n",
       "5060    Science and Technology News   \n",
       "70520                   Sports News   \n",
       "106083                  Sports News   \n",
       "13803                    World News   \n",
       "55264                    World News   \n",
       "11652   Science and Technology News   \n",
       "59722                Bussiness News   \n",
       "20591                Bussiness News   \n",
       "62411                    World News   \n",
       "\n",
       "                                         News description  \n",
       "53360   ap  its part of an intensifying car rental rum...  \n",
       "5060    yahoo now powers optusnet of australia and new...  \n",
       "70520   australia captain ricky ponting recovering fro...  \n",
       "106083  the third fight between erik morales and marco...  \n",
       "13803   a militant iraqi islamic group holding two fre...  \n",
       "55264   united nations washington wants the un securit...  \n",
       "11652   welldesigned notebook lets you play movies and...  \n",
       "59722   generic drug maker mylan laboratories inc reaf...  \n",
       "20591   cairn energy the ukbased oil  amp gas major sa...  \n",
       "62411   ap  members of the military and their families...  "
      ]
     },
     "execution_count": 8,
     "metadata": {},
     "output_type": "execute_result"
    }
   ],
   "source": [
    "df.head(10)"
   ]
  },
  {
   "cell_type": "code",
   "execution_count": 9,
   "id": "5e5cc2a8-2222-4ccf-8f35-417f71fb441a",
   "metadata": {},
   "outputs": [
    {
     "data": {
      "image/png": "[encoded data removed]",
      "text/plain": [
       "<Figure size 1000x600 with 1 Axes>"
      ]
     },
     "metadata": {},
     "output_type": "display_data"
    }
   ],
   "source": [
    "#visualising the data\n",
    "import matplotlib.pyplot as plt\n",
    "import seaborn as sns\n",
    "plt.figure(figsize=(10,6))\n",
    "sns.countplot(x = \"News Type\",  data = df)\n",
    "plt.title(\"News type distribution\")\n",
    "plt.xlabel(\"News Type\")\n",
    "plt.ylabel(\"count\")\n",
    "plt.show()\n",
    "\n",
    "            \n"
   ]
  },
  {
   "cell_type": "code",
   "execution_count": 10,
   "id": "1c689c1d-eede-4b7b-941c-cd013392e369",
   "metadata": {},
   "outputs": [
    {
     "data": {
      "text/plain": [
       "120000"
      ]
     },
     "execution_count": 10,
     "metadata": {},
     "output_type": "execute_result"
    }
   ],
   "source": [
    "#preparing to split the data\n",
    "x = df[\"News description\"]\n",
    "y =df[\"News Type\"]\n",
    "len(x)"
   ]
  },
  {
   "cell_type": "code",
   "execution_count": 11,
   "id": "eee81ee8-7951-4f8a-af6c-067e24d02ff7",
   "metadata": {},
   "outputs": [],
   "source": [
    "#splitting the data\n",
    "x_train, x_test, y_train, y_test = train_test_split(x,y, test_size = 0.2, random_state = 22)"
   ]
  },
  {
   "cell_type": "code",
   "execution_count": 12,
   "id": "87476878-ffd4-4dd2-81ba-6cb13e47760e",
   "metadata": {},
   "outputs": [
    {
     "data": {
      "text/plain": [
       "96000"
      ]
     },
     "execution_count": 12,
     "metadata": {},
     "output_type": "execute_result"
    }
   ],
   "source": [
    "len(x_train)"
   ]
  },
  {
   "cell_type": "code",
   "execution_count": 13,
   "id": "022b5fb4-976d-428b-8d58-920380021939",
   "metadata": {},
   "outputs": [],
   "source": [
    "#importing nessecarry libraries for model creation and architecture\n",
    "from sklearn.pipeline import Pipeline\n",
    "from sklearn.feature_extraction.text  import TfidfVectorizer\n",
    "from sklearn.naive_bayes import MultinomialNB, ComplementNB\n",
    "from sklearn.svm import LinearSVC\n",
    "from sklearn.metrics import accuracy_score, classification_report"
   ]
  },
  {
   "cell_type": "code",
   "execution_count": 14,
   "id": "c587aad5-4875-45e4-a00c-396755f49346",
   "metadata": {},
   "outputs": [],
   "source": [
    "#model creation procces\n",
    "pi_mnb = Pipeline([(\"tfidf\", TfidfVectorizer(stop_words = \"english\")),(\"clf\", MultinomialNB())])\n",
    "pi_lsvc = Pipeline([(\"tfidf\", TfidfVectorizer(stop_words = \"english\")),(\"clf\", LinearSVC())])\n",
    "pi_cnb = Pipeline([(\"tfidf\", TfidfVectorizer(stop_words = \"english\")),(\"clf\", ComplementNB())])"
   ]
  },
  {
   "cell_type": "code",
   "execution_count": 15,
   "id": "81b27055-175f-429c-bf61-ef90ca5e1e4d",
   "metadata": {},
   "outputs": [
    {
     "data": {
      "text/plain": [
       "array(['Science and Technology News', 'World News', 'Sports News', ...,\n",
       "       'Science and Technology News', 'Sports News',\n",
       "       'Science and Technology News'], dtype='<U27')"
      ]
     },
     "execution_count": 15,
     "metadata": {},
     "output_type": "execute_result"
    }
   ],
   "source": [
    "#still craeting the model\n",
    "pi_mnb.fit(x_train, y_train)\n",
    "predict_mnb = pi_mnb.predict(x_test)\n",
    "predict_mnb\n",
    "pi_lsvc.fit(x_train, y_train)\n",
    "predict_lsvc= pi_lsvc.predict(x_test)\n",
    "predict_lsvc\n",
    "pi_cnb.fit(x_train, y_train)\n",
    "predict_cnb = pi_cnb.predict(x_test)\n",
    "predict_cnb"
   ]
  },
  {
   "cell_type": "code",
   "execution_count": 16,
   "id": "d617c2fc-8393-4bf3-9f74-961ec595730f",
   "metadata": {},
   "outputs": [
    {
     "name": "stdout",
     "output_type": "stream",
     "text": [
      "90 %\n",
      "91 %\n",
      "90 %\n"
     ]
    }
   ],
   "source": [
    "#creating an access score function for keeping our code dry and clean and also checking which classification method is best\n",
    "def acc_sc(x, y):\n",
    "    z = accuracy_score(x, y)*100\n",
    "    print(round(z),\"%\")\n",
    "acc_sc(y_test,predict_mnb)\n",
    "acc_sc(y_test, predict_lsvc)\n",
    "acc_sc(y_test, predict_cnb)"
   ]
  },
  {
   "cell_type": "code",
   "execution_count": 17,
   "id": "a2a502e1-ef15-487f-8d33-145f8d2389ef",
   "metadata": {},
   "outputs": [
    {
     "name": "stdout",
     "output_type": "stream",
     "text": [
      "                             precision    recall  f1-score   support\n",
      "\n",
      "             Bussiness News       0.89      0.87      0.88      6072\n",
      "Science and Technology News       0.87      0.89      0.88      5869\n",
      "                Sports News       0.96      0.97      0.96      6055\n",
      "                 World News       0.92      0.90      0.91      6004\n",
      "\n",
      "                   accuracy                           0.91     24000\n",
      "                  macro avg       0.91      0.91      0.91     24000\n",
      "               weighted avg       0.91      0.91      0.91     24000\n",
      "\n"
     ]
    }
   ],
   "source": [
    "#checking classification report\n",
    "print(classification_report(y_test, predict_lsvc))"
   ]
  },
  {
   "cell_type": "code",
   "execution_count": 18,
   "id": "1b1ba125-bf50-4f25-984e-60614e399f23",
   "metadata": {},
   "outputs": [
    {
     "name": "stdout",
     "output_type": "stream",
     "text": [
      "                             precision    recall  f1-score   support\n",
      "\n",
      "             Bussiness News       0.89      0.86      0.87      6072\n",
      "Science and Technology News       0.88      0.87      0.87      5869\n",
      "                Sports News       0.94      0.99      0.96      6055\n",
      "                 World News       0.91      0.90      0.90      6004\n",
      "\n",
      "                   accuracy                           0.90     24000\n",
      "                  macro avg       0.90      0.90      0.90     24000\n",
      "               weighted avg       0.90      0.90      0.90     24000\n",
      "\n"
     ]
    }
   ],
   "source": [
    "#still checking\n",
    "print(classification_report(y_test, predict_cnb))"
   ]
  },
  {
   "cell_type": "code",
   "execution_count": 19,
   "id": "55feed98-7de1-4406-b826-67e531dba501",
   "metadata": {},
   "outputs": [
    {
     "name": "stdout",
     "output_type": "stream",
     "text": [
      "This is a  ['Bussiness News']\n"
     ]
    }
   ],
   "source": [
    "#making predictions\n",
    "def News_Type_predictor(x):\n",
    "    z = pi_lsvc.predict([x])\n",
    "    print(\"This is a \",z,)\n",
    "\n",
    "News_Type_predictor(\"why Banks are migrating to new core Banking system\")"
   ]
  },
  {
   "cell_type": "code",
   "execution_count": 20,
   "id": "71681fdf-aed3-4b4a-9157-dcd657ac5884",
   "metadata": {},
   "outputs": [
    {
     "name": "stdout",
     "output_type": "stream",
     "text": [
      "This is a  ['Science and Technology News']\n"
     ]
    }
   ],
   "source": [
    "News_Type_predictor(\"the 200mp camera phone over samsung galaxy s24 ultra\")"
   ]
  },
  {
   "cell_type": "code",
   "execution_count": 21,
   "id": "00e61858-e94b-40c7-a17d-8c7c8d3a3a22",
   "metadata": {},
   "outputs": [
    {
     "name": "stdout",
     "output_type": "stream",
     "text": [
      "This is a  ['Science and Technology News']\n"
     ]
    }
   ],
   "source": [
    "News_Type_predictor(\"space x cathes it first rocket after sevral amount of trail\")"
   ]
  },
  {
   "cell_type": "code",
   "execution_count": null,
   "id": "6c7786d0-3012-49e9-b745-fcc2a6b98e9e",
   "metadata": {},
   "outputs": [],
   "source": []
  }
 ],
 "metadata": {
  "kernelspec": {
   "display_name": "Python 3 (ipykernel)",
   "language": "python",
   "name": "python3"
  },
  "language_info": {
   "codemirror_mode": {
    "name": "ipython",
    "version": 3
   },
   "file_extension": ".py",
   "mimetype": "text/x-python",
   "name": "python",
   "nbconvert_exporter": "python",
   "pygments_lexer": "ipython3",
   "version": "3.12.4"
  }
 },
 "nbformat": 4,
 "nbformat_minor": 5
}
